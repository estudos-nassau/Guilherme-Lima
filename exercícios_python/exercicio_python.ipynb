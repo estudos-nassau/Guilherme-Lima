{
  "cells": [
    {
      "cell_type": "markdown",
      "metadata": {
        "id": "f6oYv9LEcR8T"
      },
      "source": [
        "**Exercício 1 - Aquecimento de Python para Ciência de Dados**"
      ]
    },
    {
      "cell_type": "markdown",
      "metadata": {
        "id": "v4GVV_w1cYEY"
      },
      "source": [
        "1. Imprima \"Hello, World!\" no console."
      ]
    },
    {
      "cell_type": "code",
      "execution_count": 2,
      "metadata": {
        "id": "dJ12k9hPcNAg"
      },
      "outputs": [
        {
          "name": "stdout",
          "output_type": "stream",
          "text": [
            "Hello, World\n"
          ]
        }
      ],
      "source": [
        "print(\"Hello, World\")"
      ]
    },
    {
      "cell_type": "markdown",
      "metadata": {
        "id": "ADK7MX25ciYu"
      },
      "source": [
        "2. Crie uma variável x com valor 10 e imprima seu valor."
      ]
    },
    {
      "cell_type": "code",
      "execution_count": 18,
      "metadata": {
        "id": "kk5h1v7ocqel"
      },
      "outputs": [
        {
          "name": "stdout",
          "output_type": "stream",
          "text": [
            "O valor da variavel é: 10\n"
          ]
        }
      ],
      "source": [
        "variavelX = 10\n",
        "print(f\"O valor da variavel é: {variavelX}\")"
      ]
    },
    {
      "cell_type": "markdown",
      "metadata": {
        "id": "bKry1Lukcq6l"
      },
      "source": [
        "3. Some dois números e exiba o resultado."
      ]
    },
    {
      "cell_type": "code",
      "execution_count": 28,
      "metadata": {
        "id": "S6IyQT4Lc2vf"
      },
      "outputs": [
        {
          "name": "stdout",
          "output_type": "stream",
          "text": [
            "9\n"
          ]
        }
      ],
      "source": [
        "numero1 = 5\n",
        "numero2 = 4\n",
        "resultado = numero1 + numero2\n",
        "print(resultado)"
      ]
    },
    {
      "cell_type": "markdown",
      "metadata": {
        "id": "6BG1PN9Qc3VA"
      },
      "source": [
        "4. Verifique se um número é par ou ímpar.\n"
      ]
    },
    {
      "cell_type": "code",
      "execution_count": 7,
      "metadata": {
        "id": "K6NLPZoRc7ov"
      },
      "outputs": [
        {
          "name": "stdout",
          "output_type": "stream",
          "text": [
            "impar\n"
          ]
        }
      ],
      "source": [
        "numero = 5\n",
        "if numero % 2 == 0:\n",
        "    print(\"par\")\n",
        "else:\n",
        "    print(\"impar\")"
      ]
    },
    {
      "cell_type": "markdown",
      "metadata": {
        "id": "5dKg-xpvc4xs"
      },
      "source": [
        "5. Crie uma função que receba dois números e retorne a soma deles."
      ]
    },
    {
      "cell_type": "code",
      "execution_count": null,
      "metadata": {
        "id": "iv1-9Zytc4S3"
      },
      "outputs": [],
      "source": [
        "def recebeDoisNumeros(numero1,numero2):\n",
        "    soma = numero1 + numero2\n",
        "    return soma\n",
        "\n",
        "resultado = recebeDoisNumeros(3, 5)\n",
        "print(resultado)"
      ]
    },
    {
      "cell_type": "markdown",
      "metadata": {
        "id": "zsdBZtyjc_62"
      },
      "source": [
        "6. Crie uma lista com os números de 1 a 5 e imprima-a.\n"
      ]
    },
    {
      "cell_type": "code",
      "execution_count": 24,
      "metadata": {
        "id": "xGgkwH7jdCh-"
      },
      "outputs": [
        {
          "name": "stdout",
          "output_type": "stream",
          "text": [
            "[1, 2, 3, 4, 5]\n"
          ]
        }
      ],
      "source": [
        "lista = [1,2,3,4,5]\n",
        "print(lista)"
      ]
    },
    {
      "cell_type": "markdown",
      "metadata": {
        "id": "snUAe4qddFsm"
      },
      "source": [
        "7. Adicione o número 6 à lista criada na questão anterior.\n"
      ]
    },
    {
      "cell_type": "code",
      "execution_count": 25,
      "metadata": {
        "id": "QVpSgy7FdGk9"
      },
      "outputs": [
        {
          "name": "stdout",
          "output_type": "stream",
          "text": [
            "[1, 2, 3, 4, 5, 6]\n"
          ]
        }
      ],
      "source": [
        "lista.append(6)\n",
        "print(lista)"
      ]
    },
    {
      "cell_type": "markdown",
      "metadata": {
        "id": "4HT4BfD1dI8f"
      },
      "source": [
        "8. Remova o número 3 da lista."
      ]
    },
    {
      "cell_type": "code",
      "execution_count": 26,
      "metadata": {
        "id": "QCCxAurPdKjB"
      },
      "outputs": [
        {
          "name": "stdout",
          "output_type": "stream",
          "text": [
            "[1, 2, 4, 5, 6]\n"
          ]
        }
      ],
      "source": [
        "lista.remove(3)\n",
        "print(lista)"
      ]
    },
    {
      "cell_type": "markdown",
      "metadata": {
        "id": "RyI_EEltdMZt"
      },
      "source": [
        "9. Acesse o terceiro elemento da lista."
      ]
    },
    {
      "cell_type": "code",
      "execution_count": 23,
      "metadata": {
        "id": "HIkSUt_EdOSD"
      },
      "outputs": [
        {
          "name": "stdout",
          "output_type": "stream",
          "text": [
            "4\n"
          ]
        }
      ],
      "source": [
        "print (lista[2])"
      ]
    },
    {
      "cell_type": "markdown",
      "metadata": {
        "id": "yQjJYNSsdQUI"
      },
      "source": [
        "10. Imprima o tamanho da lista."
      ]
    },
    {
      "cell_type": "code",
      "execution_count": 27,
      "metadata": {
        "id": "Nz1jOedbdTR-"
      },
      "outputs": [
        {
          "name": "stdout",
          "output_type": "stream",
          "text": [
            "[1, 2, 4, 5, 6]\n"
          ]
        }
      ],
      "source": [
        "len(lista)\n",
        "print(lista)"
      ]
    },
    {
      "cell_type": "markdown",
      "metadata": {
        "id": "2gm3RaRKdyCg"
      },
      "source": [
        "11. Crie um dicionário com informações de um carro (marca, modelo, ano)."
      ]
    },
    {
      "cell_type": "code",
      "execution_count": 15,
      "metadata": {
        "id": "gL_Svemid1kG"
      },
      "outputs": [],
      "source": [
        "carro = {\n",
        "    \"marca\":\"Nissan\",\n",
        "    \"modelo\":\"teste\",\n",
        "    \"ano\":\"2012\"\n",
        "}"
      ]
    },
    {
      "cell_type": "markdown",
      "metadata": {
        "id": "ng6tNEYtd0hE"
      },
      "source": [
        "12. Acesse o valor associado à chave \"marca\" no dicionário."
      ]
    },
    {
      "cell_type": "code",
      "execution_count": 16,
      "metadata": {
        "id": "VPDbrV6Ad0Pn"
      },
      "outputs": [
        {
          "name": "stdout",
          "output_type": "stream",
          "text": [
            "Nissan\n"
          ]
        }
      ],
      "source": [
        "print(carro[\"marca\"])"
      ]
    },
    {
      "cell_type": "markdown",
      "metadata": {
        "id": "Ov93hI7Td7c9"
      },
      "source": [
        "13. Adicione uma nova chave \"cor\" com valor \"preto\" ao dicionário."
      ]
    },
    {
      "cell_type": "code",
      "execution_count": 17,
      "metadata": {
        "id": "TrQLLfpid69U"
      },
      "outputs": [
        {
          "name": "stdout",
          "output_type": "stream",
          "text": [
            "{'marca': 'Nissan', 'modelo': 'teste', 'ano': '2012', 'cor': 'preto'}\n"
          ]
        }
      ],
      "source": [
        "carro[\"cor\"] = \"preto\"\n",
        "print (carro)"
      ]
    },
    {
      "cell_type": "markdown",
      "metadata": {
        "id": "b_5cOma2d9LP"
      },
      "source": [
        "14. Verifique se a chave \"modelo\" existe no dicionário.\n"
      ]
    },
    {
      "cell_type": "code",
      "execution_count": null,
      "metadata": {
        "id": "DUMaXPQYd8bM"
      },
      "outputs": [],
      "source": [
        "if \"modelo\" in carro:\n",
        "    print(\"A chave 'modelo' existe\")"
      ]
    },
    {
      "cell_type": "markdown",
      "metadata": {
        "id": "Zpqnxu2ReBZH"
      },
      "source": [
        "15. Itere sobre as chaves do dicionário e imprima cada uma delas."
      ]
    },
    {
      "cell_type": "code",
      "execution_count": null,
      "metadata": {
        "id": "4juQCK0veA-g"
      },
      "outputs": [],
      "source": [
        "for chave in carro:\n",
        "    print(chave)"
      ]
    },
    {
      "cell_type": "markdown",
      "metadata": {
        "id": "GAoDb4pneG-j"
      },
      "source": [
        "15. Itere sobre as chaves do dicionário e imprima cada uma delas."
      ]
    },
    {
      "cell_type": "code",
      "execution_count": 19,
      "metadata": {
        "id": "aqi8-PtUeGx5"
      },
      "outputs": [
        {
          "name": "stdout",
          "output_type": "stream",
          "text": [
            "marca\n",
            "modelo\n",
            "ano\n",
            "cor\n"
          ]
        }
      ],
      "source": [
        "for chave in carro:\n",
        "    print(chave)"
      ]
    },
    {
      "cell_type": "markdown",
      "metadata": {
        "id": "oxI3BVhteGhH"
      },
      "source": [
        "17. Crie uma função que receba uma lista e retorne a soma dos elementos."
      ]
    },
    {
      "cell_type": "code",
      "execution_count": 1,
      "metadata": {
        "id": "Ijnkd3cJeMM_"
      },
      "outputs": [
        {
          "name": "stdout",
          "output_type": "stream",
          "text": [
            "15\n"
          ]
        }
      ],
      "source": [
        "def soma_lista(lista):\n",
        "    soma = 0\n",
        "    for numero in lista:\n",
        "        soma += numero\n",
        "    return soma\n",
        "\n",
        "minha_lista = [1, 2, 3, 4, 5]\n",
        "resultado = soma_lista(minha_lista)\n",
        "print(resultado)"
      ]
    },
    {
      "cell_type": "markdown",
      "metadata": {
        "id": "Abqc7zdfeNl7"
      },
      "source": [
        "18. Crie uma função que receba um dicionário e retorne todas as suas chaves.\n"
      ]
    },
    {
      "cell_type": "code",
      "execution_count": null,
      "metadata": {
        "id": "ZbHQ9bipeQc3"
      },
      "outputs": [],
      "source": [
        "def chaves_dicionario(dicionario):\n",
        "    return dicionario.keys()\n",
        "\n",
        "chaves = chaves_dicionario(carro)\n",
        "print(chaves)"
      ]
    },
    {
      "cell_type": "markdown",
      "metadata": {
        "id": "wF_R9JlDeNip"
      },
      "source": [
        "\n",
        "19. Crie uma função que receba um dicionário e imprima chave e valor em linhas separadas."
      ]
    },
    {
      "cell_type": "code",
      "execution_count": null,
      "metadata": {
        "id": "ONvkXUDWeVX3"
      },
      "outputs": [],
      "source": [
        "def imprimir_chave_valor(dicionario):\n",
        "    for chave, valor in dicionario.items():\n",
        "        print(f\"Chave: {chave}, Valor: {valor}\")\n",
        "\n",
        "imprimir_chave_valor(carro)"
      ]
    },
    {
      "cell_type": "markdown",
      "metadata": {
        "id": "5ZSYRpJ-eM4s"
      },
      "source": [
        "20. Crie uma classe chamada Pessoa com atributos nome e idade, e um método que imprima esses dados."
      ]
    },
    {
      "cell_type": "code",
      "execution_count": 20,
      "metadata": {
        "id": "RNqpzQzdeYUG"
      },
      "outputs": [
        {
          "name": "stdout",
          "output_type": "stream",
          "text": [
            "Nome: João, Idade: 30\n"
          ]
        }
      ],
      "source": [
        "class Pessoa:\n",
        "    def __init__(self, nome, idade):\n",
        "        self.nome = nome\n",
        "        self.idade = idade\n",
        "\n",
        "    def imprimir_dados(self):\n",
        "        print(f\"Nome: {self.nome}, Idade: {self.idade}\")\n",
        "\n",
        "pessoa1 = Pessoa(\"João\", 30)\n",
        "pessoa1.imprimir_dados()"
      ]
    }
  ],
  "metadata": {
    "colab": {
      "provenance": []
    },
    "kernelspec": {
      "display_name": "Python 3",
      "name": "python3"
    },
    "language_info": {
      "codemirror_mode": {
        "name": "ipython",
        "version": 3
      },
      "file_extension": ".py",
      "mimetype": "text/x-python",
      "name": "python",
      "nbconvert_exporter": "python",
      "pygments_lexer": "ipython3",
      "version": "3.12.6"
    }
  },
  "nbformat": 4,
  "nbformat_minor": 0
}
